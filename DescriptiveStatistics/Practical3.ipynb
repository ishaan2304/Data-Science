{
 "cells": [
  {
   "cell_type": "code",
   "execution_count": 1,
   "id": "aa3cd93e-4f21-42b4-a7b6-00b43222f95d",
   "metadata": {},
   "outputs": [],
   "source": [
    "import pandas as pd"
   ]
  },
  {
   "cell_type": "code",
   "execution_count": 3,
   "id": "a825918c-2b8c-4c0d-a3e0-d431452ed55f",
   "metadata": {},
   "outputs": [],
   "source": [
    "df = pd.read_csv('age_income.csv')"
   ]
  },
  {
   "cell_type": "code",
   "execution_count": 5,
   "id": "b31a9d67-3e0a-4430-8677-1ea097ed79cd",
   "metadata": {},
   "outputs": [
    {
     "name": "stdout",
     "output_type": "stream",
     "text": [
      "   age  income\n",
      "0   25   49000\n",
      "1   56  156000\n",
      "2   65   99000\n",
      "3   32  192000\n",
      "4   41   39000\n",
      "5   59   57000\n"
     ]
    }
   ],
   "source": [
    "print(df)"
   ]
  },
  {
   "cell_type": "code",
   "execution_count": 7,
   "id": "36410010-8da0-4727-9e70-de38e614941a",
   "metadata": {},
   "outputs": [
    {
     "data": {
      "text/html": [
       "<div>\n",
       "<style scoped>\n",
       "    .dataframe tbody tr th:only-of-type {\n",
       "        vertical-align: middle;\n",
       "    }\n",
       "\n",
       "    .dataframe tbody tr th {\n",
       "        vertical-align: top;\n",
       "    }\n",
       "\n",
       "    .dataframe thead th {\n",
       "        text-align: right;\n",
       "    }\n",
       "</style>\n",
       "<table border=\"1\" class=\"dataframe\">\n",
       "  <thead>\n",
       "    <tr style=\"text-align: right;\">\n",
       "      <th></th>\n",
       "      <th>age</th>\n",
       "      <th>income</th>\n",
       "    </tr>\n",
       "  </thead>\n",
       "  <tbody>\n",
       "    <tr>\n",
       "      <th>0</th>\n",
       "      <td>25</td>\n",
       "      <td>49000</td>\n",
       "    </tr>\n",
       "    <tr>\n",
       "      <th>1</th>\n",
       "      <td>56</td>\n",
       "      <td>156000</td>\n",
       "    </tr>\n",
       "    <tr>\n",
       "      <th>2</th>\n",
       "      <td>65</td>\n",
       "      <td>99000</td>\n",
       "    </tr>\n",
       "    <tr>\n",
       "      <th>3</th>\n",
       "      <td>32</td>\n",
       "      <td>192000</td>\n",
       "    </tr>\n",
       "    <tr>\n",
       "      <th>4</th>\n",
       "      <td>41</td>\n",
       "      <td>39000</td>\n",
       "    </tr>\n",
       "    <tr>\n",
       "      <th>5</th>\n",
       "      <td>59</td>\n",
       "      <td>57000</td>\n",
       "    </tr>\n",
       "  </tbody>\n",
       "</table>\n",
       "</div>"
      ],
      "text/plain": [
       "   age  income\n",
       "0   25   49000\n",
       "1   56  156000\n",
       "2   65   99000\n",
       "3   32  192000\n",
       "4   41   39000\n",
       "5   59   57000"
      ]
     },
     "execution_count": 7,
     "metadata": {},
     "output_type": "execute_result"
    }
   ],
   "source": [
    "df"
   ]
  },
  {
   "cell_type": "code",
   "execution_count": 9,
   "id": "49a69b52-99dd-4402-a99d-d86708a386a6",
   "metadata": {},
   "outputs": [],
   "source": [
    "summary_stats = df.groupby('age')['income'].describe()"
   ]
  },
  {
   "cell_type": "code",
   "execution_count": 11,
   "id": "d1b99b21-fa8a-4879-a7f5-1456618ab0b6",
   "metadata": {},
   "outputs": [],
   "source": [
    "mean_income = df.groupby('age')['income'].mean()\n",
    "median_income = df.groupby('age')['income'].median()\n",
    "min_income = df.groupby('age')['income'].min()\n",
    "max_income = df.groupby('age')['income'].max()\n",
    "std_income = df.groupby('age')['income'].std()"
   ]
  },
  {
   "cell_type": "code",
   "execution_count": 13,
   "id": "23443f4b-a731-4308-81f8-80f504588aa5",
   "metadata": {},
   "outputs": [
    {
     "name": "stdout",
     "output_type": "stream",
     "text": [
      "Mean Income by Age Group:\n",
      "age\n",
      "25     49000.0\n",
      "32    192000.0\n",
      "41     39000.0\n",
      "56    156000.0\n",
      "59     57000.0\n",
      "65     99000.0\n",
      "Name: income, dtype: float64\n",
      "\n",
      "Median Income by Age Group:\n",
      "age\n",
      "25     49000.0\n",
      "32    192000.0\n",
      "41     39000.0\n",
      "56    156000.0\n",
      "59     57000.0\n",
      "65     99000.0\n",
      "Name: income, dtype: float64\n",
      "\n",
      "Minimum Income by Age Group:\n",
      "age\n",
      "25     49000\n",
      "32    192000\n",
      "41     39000\n",
      "56    156000\n",
      "59     57000\n",
      "65     99000\n",
      "Name: income, dtype: int64\n",
      "\n",
      "Maximum Income by Age Group:\n",
      "age\n",
      "25     49000\n",
      "32    192000\n",
      "41     39000\n",
      "56    156000\n",
      "59     57000\n",
      "65     99000\n",
      "Name: income, dtype: int64\n",
      "\n",
      "Standard Deviation of Income by Age Group:\n",
      "age\n",
      "25   NaN\n",
      "32   NaN\n",
      "41   NaN\n",
      "56   NaN\n",
      "59   NaN\n",
      "65   NaN\n",
      "Name: income, dtype: float64\n"
     ]
    }
   ],
   "source": [
    "print(\"Mean Income by Age Group:\")\n",
    "print(mean_income)\n",
    "\n",
    "print(\"\\nMedian Income by Age Group:\")\n",
    "print(median_income)\n",
    "\n",
    "print(\"\\nMinimum Income by Age Group:\")\n",
    "print(min_income)\n",
    "\n",
    "print(\"\\nMaximum Income by Age Group:\")\n",
    "print(max_income)\n",
    "\n",
    "print(\"\\nStandard Deviation of Income by Age Group:\")\n",
    "print(std_income)"
   ]
  },
  {
   "cell_type": "code",
   "execution_count": 15,
   "id": "bf52676a-24f5-42e5-afb1-bf20535d573f",
   "metadata": {},
   "outputs": [
    {
     "name": "stdout",
     "output_type": "stream",
     "text": [
      "age\n",
      "25     [49000]\n",
      "32    [192000]\n",
      "41     [39000]\n",
      "56    [156000]\n",
      "59     [57000]\n",
      "65     [99000]\n",
      "Name: income, dtype: object\n"
     ]
    }
   ],
   "source": [
    "income_by_age = df.groupby('age')['income'].apply(list)\n",
    "print(income_by_age)"
   ]
  },
  {
   "cell_type": "code",
   "execution_count": 28,
   "id": "01ba72fc-e754-4363-bbb9-001855e6365f",
   "metadata": {},
   "outputs": [],
   "source": [
    "url = 'https://archive.ics.uci.edu/ml/machine-learning-databases/iris/iris.data'\n",
    "column_names = ['sepal_length', 'sepal_width', 'petal_length', 'petal_width', 'species']\n",
    "df = pd.read_csv(url, header=None, names=column_names)"
   ]
  },
  {
   "cell_type": "code",
   "execution_count": 30,
   "id": "168113dc-717f-47b3-94b3-842e85e4d970",
   "metadata": {},
   "outputs": [
    {
     "name": "stdout",
     "output_type": "stream",
     "text": [
      "   sepal_length  sepal_width  petal_length  petal_width      species\n",
      "0           5.1          3.5           1.4          0.2  Iris-setosa\n",
      "1           4.9          3.0           1.4          0.2  Iris-setosa\n",
      "2           4.7          3.2           1.3          0.2  Iris-setosa\n",
      "3           4.6          3.1           1.5          0.2  Iris-setosa\n",
      "4           5.0          3.6           1.4          0.2  Iris-setosa\n"
     ]
    }
   ],
   "source": [
    "print(df.head())"
   ]
  },
  {
   "cell_type": "code",
   "execution_count": 32,
   "id": "f78ddb40-6863-4268-9331-ad2ac97599d3",
   "metadata": {},
   "outputs": [],
   "source": [
    "setosa = df[df['species'] == 'Iris-setosa']\n",
    "versicolor = df[df['species'] == 'Iris-versicolor']\n",
    "virginica = df[df['species'] == 'Iris-virginica']\n"
   ]
  },
  {
   "cell_type": "code",
   "execution_count": 36,
   "id": "a5e1bbc1-e151-4205-8311-3e1f893a46ee",
   "metadata": {},
   "outputs": [
    {
     "name": "stdout",
     "output_type": "stream",
     "text": [
      "Iris-setosa statistics:\n",
      "       sepal_length  sepal_width  petal_length  petal_width\n",
      "count      50.00000    50.000000     50.000000     50.00000\n",
      "mean        5.00600     3.418000      1.464000      0.24400\n",
      "std         0.35249     0.381024      0.173511      0.10721\n",
      "min         4.30000     2.300000      1.000000      0.10000\n",
      "25%         4.80000     3.125000      1.400000      0.20000\n",
      "50%         5.00000     3.400000      1.500000      0.20000\n",
      "75%         5.20000     3.675000      1.575000      0.30000\n",
      "max         5.80000     4.400000      1.900000      0.60000\n",
      "\n",
      "Iris-versicolor statistics:\n",
      "       sepal_length  sepal_width  petal_length  petal_width\n",
      "count     50.000000    50.000000     50.000000    50.000000\n",
      "mean       5.936000     2.770000      4.260000     1.326000\n",
      "std        0.516171     0.313798      0.469911     0.197753\n",
      "min        4.900000     2.000000      3.000000     1.000000\n",
      "25%        5.600000     2.525000      4.000000     1.200000\n",
      "50%        5.900000     2.800000      4.350000     1.300000\n",
      "75%        6.300000     3.000000      4.600000     1.500000\n",
      "max        7.000000     3.400000      5.100000     1.800000\n",
      "\n",
      "Iris-virginica statistics:\n",
      "       sepal_length  sepal_width  petal_length  petal_width\n",
      "count      50.00000    50.000000     50.000000     50.00000\n",
      "mean        6.58800     2.974000      5.552000      2.02600\n",
      "std         0.63588     0.322497      0.551895      0.27465\n",
      "min         4.90000     2.200000      4.500000      1.40000\n",
      "25%         6.22500     2.800000      5.100000      1.80000\n",
      "50%         6.50000     3.000000      5.550000      2.00000\n",
      "75%         6.90000     3.175000      5.875000      2.30000\n",
      "max         7.90000     3.800000      6.900000      2.50000\n"
     ]
    }
   ],
   "source": [
    "print(\"Iris-setosa statistics:\")\n",
    "print(setosa.describe())\n",
    "\n",
    "print(\"\\nIris-versicolor statistics:\")\n",
    "print(versicolor.describe())\n",
    "\n",
    "print(\"\\nIris-virginica statistics:\")\n",
    "print(virginica.describe())"
   ]
  },
  {
   "cell_type": "code",
   "execution_count": null,
   "id": "2adc9fc6-b8d1-46e9-a943-996bfd3b36ac",
   "metadata": {},
   "outputs": [],
   "source": []
  }
 ],
 "metadata": {
  "kernelspec": {
   "display_name": "Python [conda env:base] *",
   "language": "python",
   "name": "conda-base-py"
  },
  "language_info": {
   "codemirror_mode": {
    "name": "ipython",
    "version": 3
   },
   "file_extension": ".py",
   "mimetype": "text/x-python",
   "name": "python",
   "nbconvert_exporter": "python",
   "pygments_lexer": "ipython3",
   "version": "3.12.7"
  }
 },
 "nbformat": 4,
 "nbformat_minor": 5
}
